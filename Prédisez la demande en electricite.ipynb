{
 "cells": [
  {
   "cell_type": "code",
   "execution_count": 1,
   "metadata": {},
   "outputs": [],
   "source": [
    "import numpy as np\n",
    "import pandas as pd\n",
    "import matplotlib.pyplot as plt"
   ]
  },
  {
   "cell_type": "markdown",
   "metadata": {},
   "source": [
    "# Téléchargement des données "
   ]
  },
  {
   "cell_type": "markdown",
   "metadata": {},
   "source": [
    "## Données conso : "
   ]
  },
  {
   "cell_type": "markdown",
   "metadata": {},
   "source": [
    "Les données sont téléchargées sur : <br/>\n",
    "https://www.rte-france.com/fr/eco2mix/eco2mix-telechargement"
   ]
  },
  {
   "cell_type": "code",
   "execution_count": 2,
   "metadata": {
    "scrolled": false
   },
   "outputs": [
    {
     "data": {
      "text/html": [
       "<div>\n",
       "<style scoped>\n",
       "    .dataframe tbody tr th:only-of-type {\n",
       "        vertical-align: middle;\n",
       "    }\n",
       "\n",
       "    .dataframe tbody tr th {\n",
       "        vertical-align: top;\n",
       "    }\n",
       "\n",
       "    .dataframe thead th {\n",
       "        text-align: right;\n",
       "    }\n",
       "</style>\n",
       "<table border=\"1\" class=\"dataframe\">\n",
       "  <thead>\n",
       "    <tr style=\"text-align: right;\">\n",
       "      <th></th>\n",
       "      <th>Mois</th>\n",
       "      <th>Qualité</th>\n",
       "      <th>Territoire</th>\n",
       "      <th>Production totale</th>\n",
       "      <th>Production nucléaire</th>\n",
       "      <th>Production thermique totale</th>\n",
       "      <th>Production thermique charbon</th>\n",
       "      <th>Production thermique fioul</th>\n",
       "      <th>Production thermique gaz</th>\n",
       "      <th>Production hydraulique</th>\n",
       "      <th>...</th>\n",
       "      <th>Production bio-énergies</th>\n",
       "      <th>Consommation totale</th>\n",
       "      <th>Solde exportateur</th>\n",
       "      <th>Echanges export</th>\n",
       "      <th>Echanges import</th>\n",
       "      <th>Echanges avec le Royaume-uni</th>\n",
       "      <th>Echanges avec l'Espagne</th>\n",
       "      <th>Echanges avec l'Italie</th>\n",
       "      <th>Echanges aves la Suisse</th>\n",
       "      <th>Echanges avec l'Allemagne et la Belgique</th>\n",
       "    </tr>\n",
       "  </thead>\n",
       "  <tbody>\n",
       "    <tr>\n",
       "      <th>0</th>\n",
       "      <td>0000-00</td>\n",
       "      <td>Données consolidées</td>\n",
       "      <td>Grand-Est</td>\n",
       "      <td>7296</td>\n",
       "      <td>5505.0</td>\n",
       "      <td>864</td>\n",
       "      <td>153.0</td>\n",
       "      <td>8</td>\n",
       "      <td>701</td>\n",
       "      <td>537</td>\n",
       "      <td>...</td>\n",
       "      <td>70</td>\n",
       "      <td>3364</td>\n",
       "      <td>3876.0</td>\n",
       "      <td>NaN</td>\n",
       "      <td>NaN</td>\n",
       "      <td>NaN</td>\n",
       "      <td>NaN</td>\n",
       "      <td>NaN</td>\n",
       "      <td>NaN</td>\n",
       "      <td>NaN</td>\n",
       "    </tr>\n",
       "    <tr>\n",
       "      <th>1</th>\n",
       "      <td>0000-00</td>\n",
       "      <td>Données définitives</td>\n",
       "      <td>Nouvelle-Aquitaine</td>\n",
       "      <td>4523</td>\n",
       "      <td>3740.0</td>\n",
       "      <td>26</td>\n",
       "      <td>NaN</td>\n",
       "      <td>9</td>\n",
       "      <td>16</td>\n",
       "      <td>162</td>\n",
       "      <td>...</td>\n",
       "      <td>131</td>\n",
       "      <td>3222</td>\n",
       "      <td>1300.0</td>\n",
       "      <td>NaN</td>\n",
       "      <td>NaN</td>\n",
       "      <td>NaN</td>\n",
       "      <td>NaN</td>\n",
       "      <td>NaN</td>\n",
       "      <td>NaN</td>\n",
       "      <td>NaN</td>\n",
       "    </tr>\n",
       "    <tr>\n",
       "      <th>2</th>\n",
       "      <td>0000-00</td>\n",
       "      <td>Données définitives</td>\n",
       "      <td>Auvergne-Rhône-Alpes</td>\n",
       "      <td>8890</td>\n",
       "      <td>5946.0</td>\n",
       "      <td>32</td>\n",
       "      <td>4.0</td>\n",
       "      <td>17</td>\n",
       "      <td>10</td>\n",
       "      <td>2632</td>\n",
       "      <td>...</td>\n",
       "      <td>79</td>\n",
       "      <td>5010</td>\n",
       "      <td>3658.0</td>\n",
       "      <td>NaN</td>\n",
       "      <td>NaN</td>\n",
       "      <td>NaN</td>\n",
       "      <td>NaN</td>\n",
       "      <td>NaN</td>\n",
       "      <td>NaN</td>\n",
       "      <td>NaN</td>\n",
       "    </tr>\n",
       "    <tr>\n",
       "      <th>3</th>\n",
       "      <td>0000-00</td>\n",
       "      <td>Données définitives</td>\n",
       "      <td>Bourgogne-Franche-Comté</td>\n",
       "      <td>152</td>\n",
       "      <td>NaN</td>\n",
       "      <td>19</td>\n",
       "      <td>0.0</td>\n",
       "      <td>0</td>\n",
       "      <td>19</td>\n",
       "      <td>19</td>\n",
       "      <td>...</td>\n",
       "      <td>20</td>\n",
       "      <td>1533</td>\n",
       "      <td>-1383.0</td>\n",
       "      <td>NaN</td>\n",
       "      <td>NaN</td>\n",
       "      <td>NaN</td>\n",
       "      <td>NaN</td>\n",
       "      <td>NaN</td>\n",
       "      <td>NaN</td>\n",
       "      <td>NaN</td>\n",
       "    </tr>\n",
       "    <tr>\n",
       "      <th>4</th>\n",
       "      <td>0000-00</td>\n",
       "      <td>Données définitives</td>\n",
       "      <td>Bretagne</td>\n",
       "      <td>197</td>\n",
       "      <td>NaN</td>\n",
       "      <td>3</td>\n",
       "      <td>NaN</td>\n",
       "      <td>3</td>\n",
       "      <td>0</td>\n",
       "      <td>46</td>\n",
       "      <td>...</td>\n",
       "      <td>37</td>\n",
       "      <td>1493</td>\n",
       "      <td>-1300.0</td>\n",
       "      <td>NaN</td>\n",
       "      <td>NaN</td>\n",
       "      <td>NaN</td>\n",
       "      <td>NaN</td>\n",
       "      <td>NaN</td>\n",
       "      <td>NaN</td>\n",
       "      <td>NaN</td>\n",
       "    </tr>\n",
       "  </tbody>\n",
       "</table>\n",
       "<p>5 rows × 22 columns</p>\n",
       "</div>"
      ],
      "text/plain": [
       "      Mois              Qualité               Territoire  Production totale  \\\n",
       "0  0000-00  Données consolidées                Grand-Est               7296   \n",
       "1  0000-00  Données définitives       Nouvelle-Aquitaine               4523   \n",
       "2  0000-00  Données définitives     Auvergne-Rhône-Alpes               8890   \n",
       "3  0000-00  Données définitives  Bourgogne-Franche-Comté                152   \n",
       "4  0000-00  Données définitives                 Bretagne                197   \n",
       "\n",
       "   Production nucléaire  Production thermique totale  \\\n",
       "0                5505.0                          864   \n",
       "1                3740.0                           26   \n",
       "2                5946.0                           32   \n",
       "3                   NaN                           19   \n",
       "4                   NaN                            3   \n",
       "\n",
       "   Production thermique charbon  Production thermique fioul  \\\n",
       "0                         153.0                           8   \n",
       "1                           NaN                           9   \n",
       "2                           4.0                          17   \n",
       "3                           0.0                           0   \n",
       "4                           NaN                           3   \n",
       "\n",
       "   Production thermique gaz  Production hydraulique  \\\n",
       "0                       701                     537   \n",
       "1                        16                     162   \n",
       "2                        10                    2632   \n",
       "3                        19                      19   \n",
       "4                         0                      46   \n",
       "\n",
       "                     ...                     Production bio-énergies  \\\n",
       "0                    ...                                          70   \n",
       "1                    ...                                         131   \n",
       "2                    ...                                          79   \n",
       "3                    ...                                          20   \n",
       "4                    ...                                          37   \n",
       "\n",
       "   Consommation totale  Solde exportateur  Echanges export  Echanges import  \\\n",
       "0                 3364             3876.0              NaN              NaN   \n",
       "1                 3222             1300.0              NaN              NaN   \n",
       "2                 5010             3658.0              NaN              NaN   \n",
       "3                 1533            -1383.0              NaN              NaN   \n",
       "4                 1493            -1300.0              NaN              NaN   \n",
       "\n",
       "   Echanges avec le Royaume-uni  Echanges avec l'Espagne  \\\n",
       "0                           NaN                      NaN   \n",
       "1                           NaN                      NaN   \n",
       "2                           NaN                      NaN   \n",
       "3                           NaN                      NaN   \n",
       "4                           NaN                      NaN   \n",
       "\n",
       "   Echanges avec l'Italie  Echanges aves la Suisse  \\\n",
       "0                     NaN                      NaN   \n",
       "1                     NaN                      NaN   \n",
       "2                     NaN                      NaN   \n",
       "3                     NaN                      NaN   \n",
       "4                     NaN                      NaN   \n",
       "\n",
       "   Echanges avec l'Allemagne et la Belgique  \n",
       "0                                       NaN  \n",
       "1                                       NaN  \n",
       "2                                       NaN  \n",
       "3                                       NaN  \n",
       "4                                       NaN  \n",
       "\n",
       "[5 rows x 22 columns]"
      ]
     },
     "execution_count": 2,
     "metadata": {},
     "output_type": "execute_result"
    }
   ],
   "source": [
    "data = pd.read_excel(\"data.xlsx\")\n",
    "data.head()"
   ]
  },
  {
   "cell_type": "code",
   "execution_count": 6,
   "metadata": {},
   "outputs": [
    {
     "data": {
      "text/html": [
       "<div>\n",
       "<style scoped>\n",
       "    .dataframe tbody tr th:only-of-type {\n",
       "        vertical-align: middle;\n",
       "    }\n",
       "\n",
       "    .dataframe tbody tr th {\n",
       "        vertical-align: top;\n",
       "    }\n",
       "\n",
       "    .dataframe thead th {\n",
       "        text-align: right;\n",
       "    }\n",
       "</style>\n",
       "<table border=\"1\" class=\"dataframe\">\n",
       "  <thead>\n",
       "    <tr style=\"text-align: right;\">\n",
       "      <th></th>\n",
       "      <th>consommation</th>\n",
       "    </tr>\n",
       "    <tr>\n",
       "      <th>date</th>\n",
       "      <th></th>\n",
       "    </tr>\n",
       "  </thead>\n",
       "  <tbody>\n",
       "    <tr>\n",
       "      <th>2014-01-01</th>\n",
       "      <td>6693</td>\n",
       "    </tr>\n",
       "    <tr>\n",
       "      <th>2014-02-01</th>\n",
       "      <td>6013</td>\n",
       "    </tr>\n",
       "    <tr>\n",
       "      <th>2014-03-01</th>\n",
       "      <td>5965</td>\n",
       "    </tr>\n",
       "    <tr>\n",
       "      <th>2014-04-01</th>\n",
       "      <td>5139</td>\n",
       "    </tr>\n",
       "    <tr>\n",
       "      <th>2014-05-01</th>\n",
       "      <td>4858</td>\n",
       "    </tr>\n",
       "  </tbody>\n",
       "</table>\n",
       "</div>"
      ],
      "text/plain": [
       "            consommation\n",
       "date                    \n",
       "2014-01-01          6693\n",
       "2014-02-01          6013\n",
       "2014-03-01          5965\n",
       "2014-04-01          5139\n",
       "2014-05-01          4858"
      ]
     },
     "execution_count": 6,
     "metadata": {},
     "output_type": "execute_result"
    }
   ],
   "source": [
    "#Afin de coller avec les données DJU nous allons concentrer l'étude sur une région, et nous ne gardons que \n",
    "#Les données définitives.\n",
    "conso = data.loc[data['Territoire'] == 'Auvergne-Rhône-Alpes']\n",
    "conso = conso.loc[conso['Qualité'] == 'Données définitives']\n",
    "\n",
    "#Les colonnes qui nous intéressent désormais sont la date et la conso : \n",
    "conso = conso[['Mois', 'Consommation totale']]\n",
    "\n",
    "#Pas de données avant Janvier 2014, on enlève donc les mois précédents : \n",
    "conso = conso.loc[conso['Mois'] > \"2013-12\"]\n",
    "\n",
    "#Les données DJU vont jusqu'au 05/2018 :\n",
    "conso = conso.loc[conso['Mois'] < \"2018-05\"]\n",
    "\n",
    "#On renomme les colonnes : \n",
    "conso = conso.rename(columns={'Mois':'date', 'Consommation totale':'consommation'})\n",
    "\n",
    "#Split la colonne date en Année et Mois : \n",
    "#conso['annee'], conso['mois'] = conso['date'].str.split(pat='-').str\n",
    "#conso = conso.drop(columns='date')\n",
    "\n",
    "#On convertie ensuite la date en datetime :\n",
    "from datetime import datetime\n",
    "conso['date'] = pd.to_datetime(conso['date'], format='%Y-%m')\n",
    "#Set index sur date : \n",
    "conso = conso.set_index('date')\n",
    "\n",
    "conso.head()"
   ]
  },
  {
   "cell_type": "markdown",
   "metadata": {},
   "source": [
    "## Données DJU"
   ]
  },
  {
   "cell_type": "markdown",
   "metadata": {},
   "source": [
    "Données téléchargées sur : <br/>\n",
    "https://cegibat.grdf.fr/simulateur/calcul-dju"
   ]
  },
  {
   "cell_type": "code",
   "execution_count": 15,
   "metadata": {},
   "outputs": [],
   "source": [
    "dju = pd.read_excel('DJU.xlsx')\n",
    "\n",
    "#On doit maintenant mettre en forme le Df, afin d'avoir une colonne année, une mois, une valeur :\n",
    "dju = dju.stack()\n",
    "dju = pd.DataFrame(dju)\n",
    "dju = dju.reset_index()\n",
    "dju = dju.rename(columns={\"level_0\":'annee', 'level_1':'mois', 0:'valeur'})"
   ]
  },
  {
   "cell_type": "markdown",
   "metadata": {},
   "source": [
    "Il nous faut maintenant un index contenant la date complète; <br/>\n",
    "On doit d'abord transformer le nom du mois en chiffre : "
   ]
  },
  {
   "cell_type": "code",
   "execution_count": 16,
   "metadata": {},
   "outputs": [
    {
     "data": {
      "text/html": [
       "<div>\n",
       "<style scoped>\n",
       "    .dataframe tbody tr th:only-of-type {\n",
       "        vertical-align: middle;\n",
       "    }\n",
       "\n",
       "    .dataframe tbody tr th {\n",
       "        vertical-align: top;\n",
       "    }\n",
       "\n",
       "    .dataframe thead th {\n",
       "        text-align: right;\n",
       "    }\n",
       "</style>\n",
       "<table border=\"1\" class=\"dataframe\">\n",
       "  <thead>\n",
       "    <tr style=\"text-align: right;\">\n",
       "      <th></th>\n",
       "      <th>valeur</th>\n",
       "    </tr>\n",
       "    <tr>\n",
       "      <th>date</th>\n",
       "      <th></th>\n",
       "    </tr>\n",
       "  </thead>\n",
       "  <tbody>\n",
       "    <tr>\n",
       "      <th>2014-01-01</th>\n",
       "      <td>333.3</td>\n",
       "    </tr>\n",
       "    <tr>\n",
       "      <th>2014-02-01</th>\n",
       "      <td>294.7</td>\n",
       "    </tr>\n",
       "    <tr>\n",
       "      <th>2014-03-01</th>\n",
       "      <td>278.5</td>\n",
       "    </tr>\n",
       "    <tr>\n",
       "      <th>2014-04-01</th>\n",
       "      <td>184.0</td>\n",
       "    </tr>\n",
       "    <tr>\n",
       "      <th>2014-05-01</th>\n",
       "      <td>121.4</td>\n",
       "    </tr>\n",
       "  </tbody>\n",
       "</table>\n",
       "</div>"
      ],
      "text/plain": [
       "            valeur\n",
       "date              \n",
       "2014-01-01   333.3\n",
       "2014-02-01   294.7\n",
       "2014-03-01   278.5\n",
       "2014-04-01   184.0\n",
       "2014-05-01   121.4"
      ]
     },
     "execution_count": 16,
     "metadata": {},
     "output_type": "execute_result"
    }
   ],
   "source": [
    "def moisEnNum(shortMonth):\n",
    "    m = {\n",
    "            'Janvier' : 1,\n",
    "            'Février' : 2,\n",
    "            'Mars' : 3,\n",
    "            'Avril' : 4,\n",
    "            'Mai' : 5,\n",
    "            'Juin' : 6,\n",
    "            'Juillet' : 7,\n",
    "            'Août' : 8,\n",
    "            'Septembre' : 9, \n",
    "            'Octobre' : 10,\n",
    "            'Novembre' : 11,\n",
    "            'Décembre' : 12\n",
    "    }\n",
    "    resultats = []\n",
    "    for i in shortMonth:\n",
    "        out = m[i]\n",
    "        resultats.append(out)    \n",
    "    return resultats\n",
    "    \n",
    "\n",
    "dju['mois_num'] = moisEnNum(dju['mois'])\n",
    "\n",
    "#On transforme ensuite cette colonne en date, ainsi que la colonne année : \n",
    "dju['date'] = dju['mois_num'].map(str) + '/' +  dju['annee'].map(str)\n",
    "dju['date'] = pd.to_datetime(dju['date'], format='%m/%Y')\n",
    "\n",
    "#On enlève les valeurs après Mai 2018 : \n",
    "dju = dju.loc[dju.date <= '2018/05/01']\n",
    "\n",
    "#On set l'index sur date: \n",
    "dju = dju.set_index('date')\n",
    "\n",
    "#On ne garde que la colonne valeur : \n",
    "dju = dju[['valeur']]\n",
    "dju.head()"
   ]
  },
  {
   "cell_type": "markdown",
   "metadata": {},
   "source": [
    "## Visualisation :"
   ]
  },
  {
   "cell_type": "code",
   "execution_count": 12,
   "metadata": {},
   "outputs": [
    {
     "data": {
      "image/png": "[encoded data removed]",
      "text/plain": [
       "<Figure size 1008x288 with 1 Axes>"
      ]
     },
     "metadata": {
      "needs_background": "light"
     },
     "output_type": "display_data"
    }
   ],
   "source": [
    "conso.plot(y='consommation', figsize=[14,4])\n",
    "plt.show()"
   ]
  },
  {
   "cell_type": "code",
   "execution_count": 17,
   "metadata": {},
   "outputs": [
    {
     "data": {
      "image/png": "[encoded data removed]",
      "text/plain": [
       "<Figure size 1008x288 with 1 Axes>"
      ]
     },
     "metadata": {
      "needs_background": "light"
     },
     "output_type": "display_data"
    }
   ],
   "source": [
    "dju.plot(y='valeur', figsize=[14,4])\n",
    "plt.show()"
   ]
  },
  {
   "cell_type": "code",
   "execution_count": null,
   "metadata": {},
   "outputs": [],
   "source": []
  },
  {
   "cell_type": "markdown",
   "metadata": {},
   "source": [
    "# Mission 1 : Corrigez les données de consommation mensuelles de l'effet température (dues au chauffage électrique) en utilisant une régression linéaire."
   ]
  },
  {
   "cell_type": "code",
   "execution_count": null,
   "metadata": {},
   "outputs": [],
   "source": [
    "from sklearn.linear_model import LinearRegression"
   ]
  },
  {
   "cell_type": "code",
   "execution_count": null,
   "metadata": {},
   "outputs": [],
   "source": [
    "X = conso\n",
    "#X = X.reshape(-1, 1)\n",
    "y = dju['valeur']\n",
    "#y = y.reshape(-1, 1)\n",
    "reg = LinearRegression().fit(X, y)"
   ]
  },
  {
   "cell_type": "code",
   "execution_count": null,
   "metadata": {},
   "outputs": [],
   "source": []
  }
 ],
 "metadata": {
  "kernelspec": {
   "display_name": "Python 3",
   "language": "python",
   "name": "python3"
  },
  "language_info": {
   "codemirror_mode": {
    "name": "ipython",
    "version": 3
   },
   "file_extension": ".py",
   "mimetype": "text/x-python",
   "name": "python",
   "nbconvert_exporter": "python",
   "pygments_lexer": "ipython3",
   "version": "3.7.1"
  },
  "toc": {
   "base_numbering": 1,
   "nav_menu": {},
   "number_sections": true,
   "sideBar": true,
   "skip_h1_title": false,
   "title_cell": "Table of Contents",
   "title_sidebar": "Contents",
   "toc_cell": false,
   "toc_position": {},
   "toc_section_display": true,
   "toc_window_display": false
  }
 },
 "nbformat": 4,
 "nbformat_minor": 2
}
